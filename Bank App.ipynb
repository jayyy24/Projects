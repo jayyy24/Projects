{
 "cells": [
  {
   "cell_type": "code",
   "execution_count": 16,
   "metadata": {},
   "outputs": [],
   "source": [
    "b=open('bankdata.txt','w')"
   ]
  },
  {
   "cell_type": "code",
   "execution_count": 17,
   "metadata": {},
   "outputs": [],
   "source": [
    "import json"
   ]
  },
  {
   "cell_type": "code",
   "execution_count": 6,
   "metadata": {},
   "outputs": [],
   "source": [
    "data={1001:{'fname':'jay','lname':'patel','age':21,'email':'jayk2405@gmail.com','ph':'7392837461','bal':1000,'password':'jay@123'},\n",
    "     1002:{'fname':'Jk','lname':'patel','age':30,'email':'er.jk2405@gmail.com','ph':'78768787878','bal':2000,'password':'jay@123'}}"
   ]
  },
  {
   "cell_type": "code",
   "execution_count": 19,
   "metadata": {},
   "outputs": [],
   "source": [
    "json.dump(data,b)"
   ]
  },
  {
   "cell_type": "code",
   "execution_count": 20,
   "metadata": {},
   "outputs": [],
   "source": [
    "b.close()\n"
   ]
  },
  {
   "cell_type": "code",
   "execution_count": 21,
   "metadata": {},
   "outputs": [
    {
     "data": {
      "text/plain": [
       "{1001: {'fname': 'jay',\n",
       "  'lname': 'patel',\n",
       "  'age': 21,\n",
       "  'email': 'jayk2405@gmail.com',\n",
       "  'ph': '7392837461',\n",
       "  'bal': 1000,\n",
       "  'password': 'jay@123'},\n",
       " 1002: {'fname': 'Jk',\n",
       "  'lname': 'patel',\n",
       "  'age': 30,\n",
       "  'email': 'er.jk2405@gmail.com',\n",
       "  'ph': '78768787878',\n",
       "  'bal': 2000,\n",
       "  'password': 'jay@123'}}"
      ]
     },
     "execution_count": 21,
     "metadata": {},
     "output_type": "execute_result"
    }
   ],
   "source": [
    "data"
   ]
  },
  {
   "cell_type": "code",
   "execution_count": 7,
   "metadata": {},
   "outputs": [],
   "source": [
    "def otp():\n",
    "    import random\n",
    "    o=''\n",
    "    p='0123456789'\n",
    "    for i in range(6):\n",
    "        o=o+random.choice(p)\n",
    "    return o"
   ]
  },
  {
   "cell_type": "code",
   "execution_count": 8,
   "metadata": {},
   "outputs": [],
   "source": [
    "import sys\n",
    "import time\n",
    "from getpass import getpass\n",
    "def Main():\n",
    "    print('*'*78)\n",
    "    print('*'*78)\n",
    "    print()\n",
    "    print('Welcome to Bank application'.center(80))\n",
    "    print()\n",
    "    print('*'*78)\n",
    "    print('*'*78)\n",
    "    print()\n",
    "    print('1.Login \\t\\t2.Signup \\t\\t 3.Exit'.center(50))\n",
    "    print()\n",
    "    usr=int(input('Enter your choice: '))\n",
    "    if usr==1:\n",
    "        Login()\n",
    "    elif usr==2:\n",
    "        Signup()\n",
    "    elif usr==3:\n",
    "        sys.exit()\n",
    "    else:\n",
    "        print('Invalid choice: ')\n",
    "        time.sleep(2)\n",
    "        Main()\n",
    "def Login():\n",
    "    print('Welcome to Login page'.center(80))\n",
    "    print()\n",
    "    ac=int(input('Enter your account number: '))\n",
    "    if ac in data.keys():\n",
    "        pas=getpass('Enter your password: ')\n",
    "        if data[ac]['password']==pas:\n",
    "            print('Login successful')\n",
    "            print('1.Debit \\t 2.Credit \\t 3.check balance \\t 4. Change password \\t 5. Logout')\n",
    "            uch=int(input('Enter your choice: '))\n",
    "            if uch==1:\n",
    "                Debit(ac)\n",
    "            elif uch==2:\n",
    "                Credit(ac)\n",
    "            elif uch==3:\n",
    "                Check_bal(ac)\n",
    "            elif uch==4:\n",
    "                o=mail(ac)\n",
    "                ot=input('Enter otp: ')\n",
    "                if ot==o:\n",
    "                    cpas=getpass('enter current password: ')\n",
    "                    newpass=getpass('Enter new password: ')\n",
    "                    con_pass=getpass('enter confirm password: ')\n",
    "                    if cpas==data[ac]['password'] and newpass==con_pass and cpas!=newpass:\n",
    "                        data[ac]['password']=newpass\n",
    "                        print('your password cahnged successfully....')\n",
    "                    else:\n",
    "                        print('something wrong.....')\n",
    "                        time.sleep(2)\n",
    "                        Login()\n",
    "                        \n",
    "                    \n",
    "                else:\n",
    "                    print('invalid otp')\n",
    "            elif uch==5:\n",
    "                sys.exit()\n",
    "            else:\n",
    "                print('invalid choice.....')\n",
    "            \n",
    "            \n",
    "        else:\n",
    "            print('invalid username or password')\n",
    "            time.sleep(2)\n",
    "            Login()\n",
    "    \n",
    "    \n",
    "    \n",
    "    \n",
    "    else:\n",
    "        print('no result found first go to signup: ')\n",
    "        print('enter any to redirecting......')\n",
    "        a=input()\n",
    "        if a:\n",
    "            \n",
    "            time.sleep(3)\n",
    "            Signup()\n",
    "        \n",
    "def Debit(ac):\n",
    "    time.sleep(2)\n",
    "    amount=int(input('Enter amount: '))\n",
    "    if data[ac]['bal']>=amount:\n",
    "        data[ac]['bal']-=amount\n",
    "        print(f'your amount {amount} has been debited')\n",
    "        print()\n",
    "        print(f'your updated balance {data[ac][\"bal\"]}')\n",
    "    \n",
    "    \n",
    "    \n",
    "    else:\n",
    "        print(f'your current balance is:  {data[ac][\"bal\"]}')\n",
    "        time.sleep(1)\n",
    "        Debit(ac)\n",
    "def Credit(ac):\n",
    "    time.sleep(2)\n",
    "    amount=int(input('Enter amount: '))\n",
    "    if amount!=0:\n",
    "        \n",
    "        data[ac]['bal']+=amount\n",
    "\n",
    "        print(f'your amount {amount} has been Credited')\n",
    "        print()\n",
    "        print(f'your updated balance {data[ac][\"bal\"]}')\n",
    "\n",
    "def Check_bal(ac):\n",
    "    print(f'your updated balance {data[ac][\"bal\"]}')\n",
    "\n",
    "\n",
    "    \n",
    "    \n",
    "    \n",
    "    \n",
    "    \n",
    "    \n",
    "def Signup():\n",
    "    fname=input('Enter first name: ')\n",
    "    lname=input('Enter last name: ')\n",
    "    email=input('enter email accept only gmail id....: ')\n",
    "    age=int(input('enter your age: '))\n",
    "    ph_no=input('enter phone number: ')\n",
    "    pas=getpass('enter password: ')\n",
    "    c_pas=getpass('enter re passwoerd: ')\n",
    "    if pas==c_pas:\n",
    "        bal=1000\n",
    "        ac=list(data.keys())[-1]+1\n",
    "        o=otp()\n",
    "        import smtplib\n",
    "        con=smtplib.SMTP('smtp.gmail.com',587)\n",
    "        con.starttls()\n",
    "        con.login('er.jk2405@gmail.com','jayk2958')\n",
    "        con.sendmail('er,jk2405@gmail.com',email,f'Subject: OTP \\n\\n {o}')\n",
    "        con.close()\n",
    "        time.sleep(1)\n",
    "        print('..')\n",
    "        time.sleep(1)\n",
    "        print('..')\n",
    "        time.sleep(1)\n",
    "        print('..')\n",
    "        time.sleep(1)\n",
    "        print()\n",
    "        ot=input('Enter otp: ')\n",
    "        \n",
    "        while True:\n",
    "            if ot==o:\n",
    "                data[ac]={'fname':fname,'lname':lname,'password':pas,'bal':bal,'email':email,'age':age}\n",
    "                print('your account created....')\n",
    "                import smtplib\n",
    "                con=smtplib.SMTP('smtp.gmail.com',587)\n",
    "                con.starttls()\n",
    "                con.login('er.jk2405@gmail.com','jayk2958')\n",
    "                con.sendmail('er.jk2405@gmail.com',email,f'Subject: account \\n\\n your account is {ac} ')\n",
    "                con.close()\n",
    "                break\n",
    "            else:\n",
    "                ot=input('Enter otp')\n",
    "                continue\n",
    "        "
   ]
  },
  {
   "cell_type": "code",
   "execution_count": 20,
   "metadata": {},
   "outputs": [],
   "source": [
    "def mail(ac):\n",
    "    p=otp()\n",
    "    import smtplib\n",
    "    con=smtplib.SMTP('smtp.gmail.com',587)\n",
    "    con.starttls()\n",
    "    con.login('er.jk2405@gmail.com','jayk2958')\n",
    "    con.sendmail('er.jk2405@gmail.com',f'{data[ac][\"email\"]}',f'Subject: OTP \\n\\n {p}')\n",
    "    con.close()\n",
    "    return p\n",
    "    "
   ]
  },
  {
   "cell_type": "markdown",
   "metadata": {},
   "source": [
    "## Main()"
   ]
  },
  {
   "cell_type": "code",
   "execution_count": 22,
   "metadata": {},
   "outputs": [
    {
     "name": "stdout",
     "output_type": "stream",
     "text": [
      "******************************************************************************\n",
      "******************************************************************************\n",
      "\n",
      "                          Welcome to Bank application                           \n",
      "\n",
      "******************************************************************************\n",
      "******************************************************************************\n",
      "\n",
      "           1.Login \t\t2.Signup \t\t 3.Exit           \n",
      "\n",
      "Enter your choice: 2\n",
      "Enter first name: Niasrg \n",
      "Enter last name: Patel\n",
      "enter email accept only gmail id....: nisargpatel3006@gmail.com\n",
      "enter your age: 25\n",
      "enter phone number: 9798979796\n",
      "enter password: ········\n",
      "enter re passwoerd: ········\n",
      "..\n",
      "..\n",
      "..\n",
      "\n",
      "Enter otp: 853640\n",
      "your account created....\n"
     ]
    }
   ],
   "source": [
    "Main()"
   ]
  },
  {
   "cell_type": "markdown",
   "metadata": {},
   "source": []
  }
 ],
 "metadata": {
  "kernelspec": {
   "display_name": "Python 3",
   "language": "python",
   "name": "python3"
  },
  "language_info": {
   "codemirror_mode": {
    "name": "ipython",
    "version": 3
   },
   "file_extension": ".py",
   "mimetype": "text/x-python",
   "name": "python",
   "nbconvert_exporter": "python",
   "pygments_lexer": "ipython3",
   "version": "3.8.8"
  }
 },
 "nbformat": 4,
 "nbformat_minor": 2
}
