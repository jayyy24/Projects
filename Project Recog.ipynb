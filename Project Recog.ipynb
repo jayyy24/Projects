{
 "cells": [
  {
   "cell_type": "code",
   "execution_count": 4,
   "metadata": {},
   "outputs": [],
   "source": [
    "import googlesearch "
   ]
  },
  {
   "cell_type": "code",
   "execution_count": 5,
   "metadata": {},
   "outputs": [],
   "source": [
    "from googlesearch import search"
   ]
  },
  {
   "cell_type": "code",
   "execution_count": 6,
   "metadata": {},
   "outputs": [
    {
     "name": "stdout",
     "output_type": "stream",
     "text": [
      "say something\n",
      "stored\n",
      "YouTube\n"
     ]
    }
   ],
   "source": [
    "from googlesearch import search\n",
    "import webbrowser \n",
    "import speech_recognition as sr\n",
    "from gtts import gTTS\n",
    "r=sr.Recognizer()\n",
    "\n",
    "with sr.Microphone() as source:\n",
    "    print('say something')\n",
    "   \n",
    "    audio=r.listen(source)\n",
    "    try :\n",
    "        txt=r.recognize_google(audio) \n",
    "        print('stored')\n",
    "        print(txt)\n",
    "        s=list(search(txt))[0]\n",
    "        webbrowser.open(s)\n",
    "    except:\n",
    "        print('sorry')\n",
    "\n"
   ]
  }
 ],
 "metadata": {
  "kernelspec": {
   "display_name": "Python 3",
   "language": "python",
   "name": "python3"
  },
  "language_info": {
   "codemirror_mode": {
    "name": "ipython",
    "version": 3
   },
   "file_extension": ".py",
   "mimetype": "text/x-python",
   "name": "python",
   "nbconvert_exporter": "python",
   "pygments_lexer": "ipython3",
   "version": "3.8.8"
  }
 },
 "nbformat": 4,
 "nbformat_minor": 2
}
